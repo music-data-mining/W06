{
  "nbformat": 4,
  "nbformat_minor": 0,
  "metadata": {
    "kernelspec": {
      "name": "python3",
      "display_name": "Python 3"
    },
    "language_info": {
      "codemirror_mode": {
        "name": "ipython",
        "version": 3
      },
      "file_extension": ".py",
      "mimetype": "text/x-python",
      "name": "python",
      "nbconvert_exporter": "python",
      "pygments_lexer": "ipython3",
      "version": "3.6.8"
    },
    "colab": {
      "provenance": [],
      "collapsed_sections": []
    },
    "accelerator": "GPU"
  },
  "cells": [
    {
      "cell_type": "markdown",
      "metadata": {
        "id": "w03T37ME1Xp2"
      },
      "source": [
        "# Week 06 SVM Lab"
      ]
    },
    {
      "cell_type": "markdown",
      "metadata": {
        "id": "pHFVA2YD1a-a"
      },
      "source": [
        "- Course: Z604 Music Data Mining \n",
        "- Instructor: Kahyun Choi "
      ]
    },
    {
      "cell_type": "markdown",
      "metadata": {
        "id": "TKsYIPKO1O0u"
      },
      "source": [
        "### Reference\n",
        "- Textbook Chapter 5 notebook"
      ]
    },
    {
      "cell_type": "markdown",
      "metadata": {
        "id": "Z38_N-Vd1ruJ"
      },
      "source": [
        "## Setup"
      ]
    },
    {
      "cell_type": "code",
      "metadata": {
        "id": "cwrLlFd41O03"
      },
      "source": [
        "# Common imports\n",
        "import numpy as np\n",
        "import os\n",
        "\n",
        "# to make this notebook's output stable across runs\n",
        "np.random.seed(42)\n",
        "\n",
        "# To plot pretty figures\n",
        "%matplotlib inline\n",
        "import matplotlib as mpl\n",
        "import matplotlib.pyplot as plt\n",
        "mpl.rc('axes', labelsize=14)\n",
        "mpl.rc('xtick', labelsize=12)\n",
        "mpl.rc('ytick', labelsize=12)\n",
        "\n",
        "# Where to save the figures\n",
        "PROJECT_ROOT_DIR = \".\"\n",
        "CHAPTER_ID = \"svm\""
      ],
      "execution_count": null,
      "outputs": []
    },
    {
      "cell_type": "markdown",
      "metadata": {
        "id": "SJryZwBy1O07"
      },
      "source": [
        "## Effect of Regularization to Logistic Regression"
      ]
    },
    {
      "cell_type": "code",
      "metadata": {
        "scrolled": true,
        "id": "0OlHHR8g1O08",
        "outputId": "fc942820-af02-43b1-b6ec-16688f399ac8",
        "colab": {
          "base_uri": "https://localhost:8080/",
          "height": 268
        }
      },
      "source": [
        "numOutlier=10\n",
        "X=np.hstack((np.linspace(0, 30, 1000), np.linspace(45,46, numOutlier), np.linspace(50, 80, 1000)))\n",
        "y=np.hstack((np.zeros(1000, dtype=int),np.zeros(numOutlier, dtype=int),np.ones(1000, dtype=int)))\n",
        "X = X.reshape(-1, 1)\n",
        "y = y.reshape(-1)\n",
        "\n",
        "plt.figure()\n",
        "plt.plot(X[:1000+numOutlier], y[:1000+numOutlier], \"bs\", X[1000+numOutlier:], y[1000+numOutlier:], \"g^\")\n",
        "plt.show()"
      ],
      "execution_count": null,
      "outputs": [
        {
          "output_type": "display_data",
          "data": {
            "text/plain": [
              "<Figure size 432x288 with 1 Axes>"
            ],
            "image/png": "[encoded data removed]"
          },
          "metadata": {
            "needs_background": "light"
          }
        }
      ]
    },
    {
      "cell_type": "code",
      "metadata": {
        "id": "5V_9uYaB1O1B",
        "outputId": "f5527885-97dc-40bb-9230-5fb713bdf1c3",
        "colab": {
          "base_uri": "https://localhost:8080/",
          "height": 716
        }
      },
      "source": [
        "from sklearn.linear_model import LogisticRegression\n",
        "\n",
        "# logistic regression without regularization\n",
        "log_reg = LogisticRegression(solver=\"lbfgs\", random_state=42)\n",
        "# logistic regression with regularization\n",
        "log_reg_reg = LogisticRegression(solver = 'lbfgs',random_state=42,  penalty='l2',C=.0001)\n",
        "log_regs = [log_reg, log_reg_reg]\n",
        "\n",
        "for log_reg in log_regs:\n",
        "    \n",
        "    log_reg.fit(X, y)\n",
        "    print(log_reg)\n",
        "    print(\"The linear model is: t = {:.5} + {:.5}*X\".format(log_reg.intercept_[0], log_reg.coef_[0][0]))\n",
        "    print(\"-theta0/theta1: {0:0.1f}\".format(-1*log_reg.intercept_[0]/log_reg.coef_[0][0]))\n",
        "\n",
        "    # observations\n",
        "    plt.plot(X[:1000+numOutlier], y[:1000+numOutlier], \"bs\", X[1000+numOutlier:], y[1000+numOutlier:], \"g^\")\n",
        "    \n",
        "    # probability scores and the decision boundary\n",
        "    X_new = np.linspace(-1, 80, 1000).reshape(-1, 1)\n",
        "    y_proba = log_reg.predict_proba(X_new)\n",
        "    plt.plot(X_new, y_proba[:,1], \"k-\", linewidth=2, label=\"$\\hat{p}$\")\n",
        "    decision_boundary = X_new[y_proba[:, 1] >= 0.5][0]\n",
        "    print(\"decision_boundary: {0:0.1f}\".format(decision_boundary[0]))    \n",
        "\n",
        "    # the linear model\n",
        "    t_predict = log_reg.coef_[0][0]*X_new + log_reg.intercept_[0]\n",
        "    plt.plot(X_new, t_predict, \"r-\", linewidth=2, label=\"t = $\\\\theta_{0}+\\\\theta_{1} X}$\")\n",
        "    \n",
        "    # class predictions\n",
        "    y_predict = log_reg.predict(X_new)\n",
        "    plt.plot(X_new, y_predict, \"b-\", linewidth=2, label=\"$\\hat{y}$\")\n",
        "    \n",
        "    # x and y labels\n",
        "    plt.xlabel(\"X\", fontsize=18)\n",
        "    plt.ylabel(\"$\\hat{p}$ or $\\hat{y}$ or t\", rotation=90, fontsize=18)\n",
        "\n",
        "    plt.axis([-1, 80, -1, 2])\n",
        "    plt.legend(loc=\"upper left\", fontsize=14)\n",
        "\n",
        "    plt.show()"
      ],
      "execution_count": null,
      "outputs": [
        {
          "output_type": "stream",
          "name": "stdout",
          "text": [
            "LogisticRegression(random_state=42)\n",
            "The linear model is: t = -79.866 + 1.6789*X\n",
            "-theta0/theta1: 47.6\n",
            "decision_boundary: 47.6\n"
          ]
        },
        {
          "output_type": "display_data",
          "data": {
            "text/plain": [
              "<Figure size 432x288 with 1 Axes>"
            ],
            "image/png": "[encoded data removed]"
          },
          "metadata": {
            "needs_background": "light"
          }
        },
        {
          "output_type": "stream",
          "name": "stdout",
          "text": [
            "LogisticRegression(C=0.0001, random_state=42)\n",
            "The linear model is: t = -6.0148 + 0.14831*X\n",
            "-theta0/theta1: 40.6\n",
            "decision_boundary: 40.6\n"
          ]
        },
        {
          "output_type": "display_data",
          "data": {
            "text/plain": [
              "<Figure size 432x288 with 1 Axes>"
            ],
            "image/png": "[encoded data removed]"
          },
          "metadata": {
            "needs_background": "light"
          }
        }
      ]
    },
    {
      "cell_type": "markdown",
      "metadata": {
        "id": "U76U6n7f1O1E"
      },
      "source": [
        "## Hinge Loss"
      ]
    },
    {
      "cell_type": "code",
      "metadata": {
        "id": "-U0r0R1T1O1H",
        "outputId": "483334d5-f801-496b-e3e8-4376f5c776a5",
        "colab": {
          "base_uri": "https://localhost:8080/",
          "height": 229
        }
      },
      "source": [
        "t = np.linspace(-2, 4, 200)\n",
        "h = np.where(1 - t < 0, 0, 1 - t)  # max(0, 1-t) Return elements chosen from x or y depending on condition.\n",
        "\n",
        "plt.figure(figsize=(5,2.8))\n",
        "plt.plot(t, h, \"b-\", linewidth=2, label=\"$max(0, 1 - y \\hat{y})$\")\n",
        "plt.grid(True, which='both')\n",
        "plt.axhline(y=0, color='k')\n",
        "plt.axvline(x=0, color='k')\n",
        "plt.yticks(np.arange(-1, 2.5, 1))\n",
        "plt.xlabel(\"$y \\hat{y}$\", fontsize=16)\n",
        "plt.ylabel(\"Hinge Loss\", fontsize=16)\n",
        "plt.axis([-2, 4, -1, 2.5])\n",
        "plt.legend(loc=\"upper right\", fontsize=16)\n",
        "plt.show()"
      ],
      "execution_count": null,
      "outputs": [
        {
          "output_type": "display_data",
          "data": {
            "text/plain": [
              "<Figure size 360x201.6 with 1 Axes>"
            ],
            "image/png": "[encoded data removed]"
          },
          "metadata": {
            "needs_background": "light"
          }
        }
      ]
    },
    {
      "cell_type": "markdown",
      "metadata": {
        "id": "vYsJCDJ61O1K"
      },
      "source": [
        "## SVM for Binary Classification"
      ]
    },
    {
      "cell_type": "code",
      "metadata": {
        "id": "7fkN88RH1O1L"
      },
      "source": [
        "from sklearn import datasets\n",
        "\n",
        "iris = datasets.load_iris()\n",
        "X = iris[\"data\"][:, (2, 3)]  # petal length, petal width\n",
        "y = iris[\"target\"]\n",
        "\n",
        "setosa_or_versicolor = (y == 0) | (y == 1)\n",
        "X = X[setosa_or_versicolor]\n",
        "y = y[setosa_or_versicolor]"
      ],
      "execution_count": null,
      "outputs": []
    },
    {
      "cell_type": "code",
      "source": [
        "from sklearn.svm import SVC, LinearSVC\n",
        "from sklearn.linear_model import SGDClassifier\n",
        "from sklearn.preprocessing import StandardScaler\n",
        "\n",
        "C = 5\n",
        "alpha = 1 / (C * len(X))\n",
        "\n",
        "lin_clf = LinearSVC(loss=\"hinge\", C=C, random_state=42)\n",
        "svm_clf = SVC(kernel=\"linear\", C=C)\n",
        "sgd_clf = SGDClassifier(loss=\"hinge\", learning_rate=\"constant\", eta0=0.001, alpha=alpha,\n",
        "                        max_iter=100000, tol=-np.infty, random_state=42)\n",
        "\n",
        "scaler = StandardScaler()\n",
        "X_scaled = scaler.fit_transform(X)\n",
        "\n",
        "lin_clf.fit(X_scaled, y)\n",
        "svm_clf.fit(X_scaled, y)\n",
        "sgd_clf.fit(X_scaled, y)\n",
        "\n",
        "print(\"LinearSVC:                   \", lin_clf.intercept_, lin_clf.coef_)\n",
        "print(\"SVC:                         \", svm_clf.intercept_, svm_clf.coef_)\n",
        "print(\"SGDClassifier(alpha={:.5f}):\".format(sgd_clf.alpha), sgd_clf.intercept_, sgd_clf.coef_)"
      ],
      "metadata": {
        "id": "Blda8u8gTDOF",
        "outputId": "beaa7db3-af35-4b2f-9e6c-56d655302bd6",
        "colab": {
          "base_uri": "https://localhost:8080/"
        }
      },
      "execution_count": null,
      "outputs": [
        {
          "output_type": "stream",
          "name": "stdout",
          "text": [
            "LinearSVC:                    [0.28475098] [[1.05364854 1.09903804]]\n",
            "SVC:                          [0.31896852] [[1.1203284  1.02625193]]\n",
            "SGDClassifier(alpha=0.00200): [0.319] [[1.12087283 1.02679408]]\n"
          ]
        }
      ]
    },
    {
      "cell_type": "code",
      "metadata": {
        "id": "fHgn_NWh1O1T",
        "outputId": "218e4795-8786-4503-dd47-947dfbce1e04",
        "colab": {
          "base_uri": "https://localhost:8080/",
          "height": 291
        }
      },
      "source": [
        "# Compute the slope and bias of each decision boundary\n",
        "w1 = -lin_clf.coef_[0, 0]/lin_clf.coef_[0, 1]\n",
        "b1 = -lin_clf.intercept_[0]/lin_clf.coef_[0, 1]\n",
        "w2 = -svm_clf.coef_[0, 0]/svm_clf.coef_[0, 1]\n",
        "b2 = -svm_clf.intercept_[0]/svm_clf.coef_[0, 1]\n",
        "w3 = -sgd_clf.coef_[0, 0]/sgd_clf.coef_[0, 1]\n",
        "b3 = -sgd_clf.intercept_[0]/sgd_clf.coef_[0, 1]\n",
        "\n",
        "# Transform the decision boundary lines back to the original scale\n",
        "line1 = scaler.inverse_transform([[-10, -10 * w1 + b1], [10, 10 * w1 + b1]])\n",
        "line2 = scaler.inverse_transform([[-10, -10 * w2 + b2], [10, 10 * w2 + b2]])\n",
        "line3 = scaler.inverse_transform([[-10, -10 * w3 + b3], [10, 10 * w3 + b3]])\n",
        "\n",
        "# Plot all three decision boundaries\n",
        "plt.figure(figsize=(11, 4))\n",
        "plt.plot(line1[:, 0], line1[:, 1], \"k:\", label=\"LinearSVC\")\n",
        "plt.plot(line2[:, 0], line2[:, 1], \"b--\", linewidth=2, label=\"SVC\")\n",
        "plt.plot(line3[:, 0], line3[:, 1], \"r-\", label=\"SGDClassifier\")\n",
        "plt.plot(X[:, 0][y==1], X[:, 1][y==1], \"bs\") # label=\"Iris-Versicolor\"\n",
        "plt.plot(X[:, 0][y==0], X[:, 1][y==0], \"yo\") # label=\"Iris-Setosa\"\n",
        "plt.xlabel(\"Petal length\", fontsize=14)\n",
        "plt.ylabel(\"Petal width\", fontsize=14)\n",
        "plt.legend(loc=\"upper center\", fontsize=14)\n",
        "plt.axis([0, 5.5, 0, 2])\n",
        "\n",
        "plt.show()"
      ],
      "execution_count": null,
      "outputs": [
        {
          "output_type": "display_data",
          "data": {
            "text/plain": [
              "<Figure size 792x288 with 1 Axes>"
            ],
            "image/png": "[encoded data removed]"
          },
          "metadata": {
            "needs_background": "light"
          }
        }
      ]
    },
    {
      "cell_type": "markdown",
      "metadata": {
        "id": "jqPr1cMZ1O1W"
      },
      "source": [
        "## SVM for Multiclass Classification"
      ]
    },
    {
      "cell_type": "code",
      "metadata": {
        "id": "ggjQwSTY1O1X"
      },
      "source": [
        "from sklearn.datasets import load_digits\n",
        "digits = load_digits()\n",
        "\n",
        "n_samples = len(digits.images)\n",
        "X = digits.images.reshape((n_samples, -1))\n",
        "y = digits.target\n",
        "\n",
        "from sklearn.model_selection import train_test_split\n",
        "X_train, X_test, y_train, y_test = train_test_split(X,y,test_size=0.3,random_state=42)\n",
        "\n",
        "shuffle_index = np.random.permutation(X_train.shape[0])\n",
        "X_train, y_train = X_train[shuffle_index], y_train[shuffle_index]\n",
        "\n",
        "scaler = StandardScaler()\n",
        "X_train_scaled = scaler.fit_transform(X_train.astype(np.float32))\n",
        "X_test_scaled = scaler.transform(X_test.astype(np.float32))"
      ],
      "execution_count": null,
      "outputs": []
    },
    {
      "cell_type": "code",
      "metadata": {
        "id": "C3Ty7ZuQ1O1Z",
        "outputId": "31cbb92c-fb3b-45ca-9acd-1894ff09dc8f",
        "colab": {
          "base_uri": "https://localhost:8080/"
        }
      },
      "source": [
        "alpha = 1\n",
        "\n",
        "sgd_clf = SGDClassifier(loss=\"hinge\", learning_rate=\"constant\", eta0=0.001, alpha=alpha,\n",
        "                        max_iter=1000, tol=-np.infty, random_state=42)\n",
        "sgd_clf.fit(X_train_scaled, y_train)"
      ],
      "execution_count": null,
      "outputs": [
        {
          "output_type": "execute_result",
          "data": {
            "text/plain": [
              "SGDClassifier(alpha=1, eta0=0.001, learning_rate='constant', random_state=42,\n",
              "              tol=-inf)"
            ]
          },
          "metadata": {},
          "execution_count": 9
        }
      ]
    },
    {
      "cell_type": "code",
      "metadata": {
        "id": "evgr7eR21O1f",
        "outputId": "15210942-740e-4fa1-e298-439c61e314f4",
        "colab": {
          "base_uri": "https://localhost:8080/"
        }
      },
      "source": [
        "from sklearn.metrics import accuracy_score\n",
        "y_pred = sgd_clf.predict(X_train_scaled)\n",
        "accuracy_score(y_train, y_pred)"
      ],
      "execution_count": null,
      "outputs": [
        {
          "output_type": "execute_result",
          "data": {
            "text/plain": [
              "0.9101034208432777"
            ]
          },
          "metadata": {},
          "execution_count": 10
        }
      ]
    },
    {
      "cell_type": "code",
      "metadata": {
        "id": "yynUISv_1O1j",
        "outputId": "f7e61112-320b-42e3-fdab-15d20a36d100",
        "colab": {
          "base_uri": "https://localhost:8080/"
        }
      },
      "source": [
        "y_pred = sgd_clf.predict(X_test_scaled)\n",
        "accuracy_score(y_test, y_pred)"
      ],
      "execution_count": null,
      "outputs": [
        {
          "output_type": "execute_result",
          "data": {
            "text/plain": [
              "0.912962962962963"
            ]
          },
          "metadata": {},
          "execution_count": 11
        }
      ]
    },
    {
      "cell_type": "markdown",
      "metadata": {
        "id": "m4hLhYbr1O1m"
      },
      "source": [
        "## Hyperparameter Tuning"
      ]
    },
    {
      "cell_type": "code",
      "metadata": {
        "id": "lNTOjD0E1O1n",
        "outputId": "62f263b8-7421-41cd-d894-8f3bc05b2eda",
        "colab": {
          "base_uri": "https://localhost:8080/"
        }
      },
      "source": [
        "# Instantiate an RBF SVM\n",
        "sgd_clf = SGDClassifier(loss=\"hinge\", learning_rate=\"constant\", eta0=0.001, \n",
        "                        max_iter=1000, tol=-np.infty, random_state=42)\n",
        "\n",
        "# Instantiate the GridSearchCV object and run the search\n",
        "parameters = {'alpha':[0.00001, 0.0001, 0.001, 0.01, 0.1]}\n",
        "from sklearn.model_selection import GridSearchCV\n",
        "searcher = GridSearchCV(sgd_clf, parameters, cv = 3)\n",
        "searcher.fit(X_train_scaled,y_train)\n",
        "\n",
        "# Report the best parameters\n",
        "print(\"Best CV params\", searcher.best_params_)"
      ],
      "execution_count": null,
      "outputs": [
        {
          "output_type": "stream",
          "name": "stdout",
          "text": [
            "Best CV params {'alpha': 0.01}\n"
          ]
        }
      ]
    },
    {
      "cell_type": "code",
      "metadata": {
        "id": "WgQ6zF-O1O1q",
        "outputId": "1f327a0d-09f6-43cf-e6b0-600d3fccb7f6",
        "colab": {
          "base_uri": "https://localhost:8080/"
        }
      },
      "source": [
        "alpha = searcher.best_params_['alpha']\n",
        "\n",
        "sgd_clf = SGDClassifier(loss=\"hinge\", learning_rate=\"constant\", eta0=0.001, alpha=alpha,\n",
        "                        max_iter=1000, tol=-np.infty, random_state=42)\n",
        "sgd_clf.fit(X_train_scaled, y_train)"
      ],
      "execution_count": null,
      "outputs": [
        {
          "output_type": "execute_result",
          "data": {
            "text/plain": [
              "SGDClassifier(alpha=0.01, eta0=0.001, learning_rate='constant', random_state=42,\n",
              "              tol=-inf)"
            ]
          },
          "metadata": {},
          "execution_count": 13
        }
      ]
    },
    {
      "cell_type": "code",
      "metadata": {
        "id": "0wwsd4ZX1O1u",
        "outputId": "57d203fd-91c0-4838-c533-7fa0bbf4fef1",
        "colab": {
          "base_uri": "https://localhost:8080/"
        }
      },
      "source": [
        "from sklearn.metrics import accuracy_score\n",
        "y_pred = sgd_clf.predict(X_train_scaled)\n",
        "accuracy_score(y_train, y_pred)"
      ],
      "execution_count": null,
      "outputs": [
        {
          "output_type": "execute_result",
          "data": {
            "text/plain": [
              "0.9785202863961814"
            ]
          },
          "metadata": {},
          "execution_count": 14
        }
      ]
    },
    {
      "cell_type": "code",
      "metadata": {
        "id": "Qf97C7L_1O1v",
        "outputId": "423766b7-17a5-4f74-efb9-acdac27492b7",
        "colab": {
          "base_uri": "https://localhost:8080/"
        }
      },
      "source": [
        "y_pred = sgd_clf.predict(X_test_scaled)\n",
        "accuracy_score(y_test, y_pred)"
      ],
      "execution_count": null,
      "outputs": [
        {
          "output_type": "execute_result",
          "data": {
            "text/plain": [
              "0.9666666666666667"
            ]
          },
          "metadata": {},
          "execution_count": 15
        }
      ]
    },
    {
      "cell_type": "markdown",
      "metadata": {
        "id": "OrQBgYaC1O1x"
      },
      "source": [
        "## Non-linear classification"
      ]
    },
    {
      "cell_type": "markdown",
      "metadata": {
        "id": "B-PF1k3H1O1x"
      },
      "source": [
        "### 9 observations"
      ]
    },
    {
      "cell_type": "code",
      "metadata": {
        "id": "qK5xnk-n1O1y",
        "outputId": "b1b58bf8-61fe-407c-f9e5-22e3ca164a4c",
        "colab": {
          "base_uri": "https://localhost:8080/",
          "height": 291
        }
      },
      "source": [
        "X1D = np.linspace(-4, 4, 9).reshape(-1, 1)\n",
        "X2D = np.c_[X1D, X1D**2]\n",
        "y = np.array([0, 0, 1, 1, 1, 1, 1, 0, 0])\n",
        "\n",
        "plt.figure(figsize=(11, 4))\n",
        "\n",
        "plt.subplot(121)\n",
        "plt.grid(True, which='both')\n",
        "plt.axhline(y=0, color='k')\n",
        "plt.plot(X1D[:, 0][y==0], np.zeros(4), \"bs\")\n",
        "plt.plot(X1D[:, 0][y==1], np.zeros(5), \"g^\")\n",
        "plt.gca().get_yaxis().set_ticks([])\n",
        "plt.xlabel(r\"$x_1$\", fontsize=20)\n",
        "plt.axis([-4.5, 4.5, -0.2, 0.2])\n",
        "\n",
        "plt.subplot(122)\n",
        "plt.grid(True, which='both')\n",
        "plt.axhline(y=0, color='k')\n",
        "plt.axvline(x=0, color='k')\n",
        "plt.plot(X2D[:, 0][y==0], X2D[:, 1][y==0], \"bs\")\n",
        "plt.plot(X2D[:, 0][y==1], X2D[:, 1][y==1], \"g^\")\n",
        "plt.xlabel(r\"$x_1$\", fontsize=20)\n",
        "plt.ylabel(r\"$x_2$\", fontsize=20, rotation=0)\n",
        "plt.gca().get_yaxis().set_ticks([0, 4, 8, 12, 16])\n",
        "plt.plot([-4.5, 4.5], [6.5, 6.5], \"r--\", linewidth=3)\n",
        "plt.axis([-4.5, 4.5, -1, 17])\n",
        "\n",
        "plt.subplots_adjust(right=1)\n",
        "plt.show()"
      ],
      "execution_count": null,
      "outputs": [
        {
          "output_type": "display_data",
          "data": {
            "text/plain": [
              "<Figure size 792x288 with 2 Axes>"
            ],
            "image/png": "[encoded data removed]"
          },
          "metadata": {
            "needs_background": "light"
          }
        }
      ]
    },
    {
      "cell_type": "markdown",
      "metadata": {
        "id": "dobTn0a41O1z"
      },
      "source": [
        "### 90 observations"
      ]
    },
    {
      "cell_type": "code",
      "metadata": {
        "id": "FezwQ__c1O10",
        "outputId": "ff7ad8a6-083c-45f9-bc27-39e3ac422584",
        "colab": {
          "base_uri": "https://localhost:8080/",
          "height": 291
        }
      },
      "source": [
        "X1D = np.linspace(-4, 4, 90).reshape(-1, 1)\n",
        "X2D = np.c_[X1D, X1D**2]\n",
        "#y = np.array([0, 0, 1, 1, 1, 1, 1, 0, 0])\n",
        "y = np.hstack((np.zeros(20, dtype=int),np.ones(50, dtype=int),np.zeros(20, dtype=int)))\n",
        "y = y.reshape(-1)\n",
        "\n",
        "plt.figure(figsize=(11, 4))\n",
        "\n",
        "plt.subplot(121)\n",
        "plt.grid(True, which='both')\n",
        "plt.axhline(y=0, color='k')\n",
        "plt.plot(X1D[:, 0][y==0], np.zeros(40), \"bs\")\n",
        "plt.plot(X1D[:, 0][y==1], np.zeros(50), \"g^\")\n",
        "plt.gca().get_yaxis().set_ticks([])\n",
        "plt.xlabel(r\"$x_1$\", fontsize=20)\n",
        "plt.axis([-4.5, 4.5, -0.2, 0.2])\n",
        "\n",
        "plt.subplot(122)\n",
        "plt.grid(True, which='both')\n",
        "plt.axhline(y=0, color='k')\n",
        "plt.axvline(x=0, color='k')\n",
        "plt.plot(X2D[:, 0][y==0], X2D[:, 1][y==0], \"bs\")\n",
        "plt.plot(X2D[:, 0][y==1], X2D[:, 1][y==1], \"g^\")\n",
        "plt.xlabel(r\"$x_1$\", fontsize=20)\n",
        "plt.ylabel(r\"$x_2$\", fontsize=20, rotation=0)\n",
        "plt.gca().get_yaxis().set_ticks([0, 4, 8, 12, 16])\n",
        "plt.plot([-4.5, 4.5], [6.5, 6.5], \"r--\", linewidth=3)\n",
        "plt.axis([-4.5, 4.5, -1, 17])\n",
        "\n",
        "plt.subplots_adjust(right=1)\n",
        "plt.show()"
      ],
      "execution_count": null,
      "outputs": [
        {
          "output_type": "display_data",
          "data": {
            "text/plain": [
              "<Figure size 792x288 with 2 Axes>"
            ],
            "image/png": "[encoded data removed]"
          },
          "metadata": {
            "needs_background": "light"
          }
        }
      ]
    },
    {
      "cell_type": "markdown",
      "metadata": {
        "id": "7Kcl5IRr1O12"
      },
      "source": [
        "### Linear SVM for the linear not seperable case"
      ]
    },
    {
      "cell_type": "code",
      "metadata": {
        "id": "tImVw_7H1O12"
      },
      "source": [
        "from sklearn.model_selection import train_test_split\n",
        "X_train, X_test, y_train, y_test = train_test_split(X1D,y,test_size=0.3,random_state=42)\n",
        "\n",
        "shuffle_index = np.random.permutation(X_train.shape[0])\n",
        "X_train, y_train = X_train[shuffle_index], y_train[shuffle_index]\n",
        "\n",
        "scaler = StandardScaler()\n",
        "X_train_scaled = scaler.fit_transform(X_train.astype(np.float32))\n",
        "X_test_scaled = scaler.transform(X_test.astype(np.float32))"
      ],
      "execution_count": null,
      "outputs": []
    },
    {
      "cell_type": "code",
      "metadata": {
        "id": "bVgV4Ffn1O14",
        "outputId": "c69f37ec-986e-4f8e-a870-60a44e7715bb",
        "colab": {
          "base_uri": "https://localhost:8080/"
        }
      },
      "source": [
        "# Instantiate an SVM\n",
        "sgd_clf = SGDClassifier(loss=\"hinge\", learning_rate=\"constant\", eta0=0.001, \n",
        "                        max_iter=1000, tol=-np.infty, random_state=42)\n",
        "\n",
        "# Instantiate the GridSearchCV object and run the search\n",
        "alpha_range = np.logspace(-10, 2, 13)\n",
        "param_grid = dict(alpha=alpha_range)\n",
        "\n",
        "from sklearn.model_selection import GridSearchCV\n",
        "searcher = GridSearchCV(sgd_clf, param_grid=param_grid, cv = 3)\n",
        "searcher.fit(X_train_scaled,y_train)\n",
        "\n",
        "# Report the best parameters\n",
        "print(\"Best CV params\", searcher.best_params_)\n",
        "\n",
        "alpha = searcher.best_params_['alpha']\n",
        "\n",
        "sgd_clf = SGDClassifier(loss=\"hinge\", learning_rate=\"constant\", eta0=0.001, alpha=alpha,\n",
        "                        max_iter=1000, tol=-np.infty, random_state=42)\n",
        "sgd_clf.fit(X_train_scaled, y_train)"
      ],
      "execution_count": null,
      "outputs": [
        {
          "output_type": "stream",
          "name": "stdout",
          "text": [
            "Best CV params {'alpha': 0.01}\n"
          ]
        },
        {
          "output_type": "execute_result",
          "data": {
            "text/plain": [
              "SGDClassifier(alpha=0.01, eta0=0.001, learning_rate='constant', random_state=42,\n",
              "              tol=-inf)"
            ]
          },
          "metadata": {},
          "execution_count": 19
        }
      ]
    },
    {
      "cell_type": "code",
      "metadata": {
        "id": "ls3_DH2r1O15",
        "outputId": "2c273436-cf73-4ca7-ce31-c53a64ccd2c9",
        "colab": {
          "base_uri": "https://localhost:8080/"
        }
      },
      "source": [
        "from sklearn.metrics import accuracy_score\n",
        "y_pred = sgd_clf.predict(X_train_scaled)\n",
        "accuracy_score(y_train, y_pred)"
      ],
      "execution_count": null,
      "outputs": [
        {
          "output_type": "execute_result",
          "data": {
            "text/plain": [
              "0.5396825396825397"
            ]
          },
          "metadata": {},
          "execution_count": 20
        }
      ]
    },
    {
      "cell_type": "code",
      "metadata": {
        "id": "rV1d-JtO1O16",
        "outputId": "0763b028-c031-4b09-fa7a-ddcf8733b565",
        "colab": {
          "base_uri": "https://localhost:8080/"
        }
      },
      "source": [
        "y_pred = sgd_clf.predict(X_test_scaled)\n",
        "accuracy_score(y_test, y_pred)"
      ],
      "execution_count": null,
      "outputs": [
        {
          "output_type": "execute_result",
          "data": {
            "text/plain": [
              "0.5925925925925926"
            ]
          },
          "metadata": {},
          "execution_count": 21
        }
      ]
    },
    {
      "cell_type": "markdown",
      "metadata": {
        "id": "54F8iC1q1O17"
      },
      "source": [
        "### Non-linear SVM for the non-linear classification\n",
        "- Finding C and gamma using GridSearchCV"
      ]
    },
    {
      "cell_type": "code",
      "metadata": {
        "id": "0_wrQDxv1O18",
        "outputId": "38389771-97ee-44a8-b894-4c72452d2d95",
        "colab": {
          "base_uri": "https://localhost:8080/"
        }
      },
      "source": [
        "from sklearn.svm import SVC\n",
        "\n",
        "# Instantiate a RBF SVM\n",
        "svm_clf = SVC(kernel=\"rbf\")\n",
        "\n",
        "C_range = np.logspace(-2, 10, 13)\n",
        "gamma_range = np.logspace(-9, 3, 13)\n",
        "param_grid = dict(gamma=gamma_range, C=C_range)\n",
        "\n",
        "from sklearn.model_selection import GridSearchCV\n",
        "searcher = GridSearchCV(svm_clf, param_grid=param_grid, cv = 3)\n",
        "searcher.fit(X_train_scaled,y_train)\n",
        "\n",
        "# Report the best parameters\n",
        "print(\"Best CV params\", searcher.best_params_)\n",
        "\n",
        "gamma = searcher.best_params_['gamma']\n",
        "C = searcher.best_params_['C']\n",
        "\n",
        "svm_clf = SVC(kernel=\"rbf\", gamma=gamma, C=C)\n",
        "svm_clf.fit(X_train_scaled, y_train)"
      ],
      "execution_count": null,
      "outputs": [
        {
          "output_type": "stream",
          "name": "stdout",
          "text": [
            "Best CV params {'C': 1000.0, 'gamma': 0.1}\n"
          ]
        },
        {
          "output_type": "execute_result",
          "data": {
            "text/plain": [
              "SVC(C=1000.0, gamma=0.1)"
            ]
          },
          "metadata": {},
          "execution_count": 22
        }
      ]
    },
    {
      "cell_type": "code",
      "metadata": {
        "id": "h9t1qLBr1O19",
        "outputId": "054dc43d-635a-4fc3-88fb-2cb327e5a7bf",
        "colab": {
          "base_uri": "https://localhost:8080/"
        }
      },
      "source": [
        "from sklearn.metrics import accuracy_score\n",
        "y_pred = svm_clf.predict(X_train_scaled)\n",
        "accuracy_score(y_train, y_pred)"
      ],
      "execution_count": null,
      "outputs": [
        {
          "output_type": "execute_result",
          "data": {
            "text/plain": [
              "0.9841269841269841"
            ]
          },
          "metadata": {},
          "execution_count": 23
        }
      ]
    },
    {
      "cell_type": "code",
      "metadata": {
        "id": "os5zh86u1O1-",
        "outputId": "350520cc-9b14-4cca-8e6c-a400aa07c0e9",
        "colab": {
          "base_uri": "https://localhost:8080/"
        }
      },
      "source": [
        "y_pred = svm_clf.predict(X_test_scaled)\n",
        "accuracy_score(y_test, y_pred)"
      ],
      "execution_count": null,
      "outputs": [
        {
          "output_type": "execute_result",
          "data": {
            "text/plain": [
              "1.0"
            ]
          },
          "metadata": {},
          "execution_count": 24
        }
      ]
    }
  ]
}