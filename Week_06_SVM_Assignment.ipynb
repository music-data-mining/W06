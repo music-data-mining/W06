{
  "nbformat": 4,
  "nbformat_minor": 0,
  "metadata": {
    "kernelspec": {
      "name": "python3",
      "display_name": "Python 3"
    },
    "language_info": {
      "codemirror_mode": {
        "name": "ipython",
        "version": 3
      },
      "file_extension": ".py",
      "mimetype": "text/x-python",
      "name": "python",
      "nbconvert_exporter": "python",
      "pygments_lexer": "ipython3",
      "version": "3.6.8"
    },
    "colab": {
      "provenance": [],
      "collapsed_sections": []
    },
    "accelerator": "TPU"
  },
  "cells": [
    {
      "cell_type": "markdown",
      "metadata": {
        "id": "l4Gu2N5O5ADF"
      },
      "source": [
        "# Week 06 SVM Assignment"
      ]
    },
    {
      "cell_type": "markdown",
      "metadata": {
        "id": "_aMv4c3p5ADJ"
      },
      "source": [
        "- Course: Z604 Music Data Mining \n",
        "- Instructor: Kahyun Choi "
      ]
    },
    {
      "cell_type": "markdown",
      "metadata": {
        "id": "PpFKZqB67W7d"
      },
      "source": [
        "Use the same Deezer MSD Mood Dataset that you used for the previous assignments. \n",
        "\n",
        "Links to the dataset\n",
        "- Deezer MSD Mood Dataset I with three one dimensional features (moodmsdfeatures.csv): https://drive.google.com/open?id=1CHuOsBQbVCNKHu049P2u-vvd5FwRyAVs\n",
        "- MSD Mood Dataset II (with actual h5 files) : https://drive.google.com/open?id=1ENp-hW4Mg_A3kW61EFZLuvfUWMnQ6JrN\n",
        "- beat-aligned features from MSD h5 files (beat_aligned_feats.py): https://drive.google.com/open?id=1ElA54DvY4-gjbBdkqLWK_Zi9wlhUcmWi\n",
        "- hdf5_getters.py: https://drive.google.com/open?id=1XhsIUwJhqLna85nfS2LJV9EJxU3yFMay"
      ]
    },
    {
      "cell_type": "code",
      "source": [
        "# we will be reusing dataset from W04\n",
        "import os\n",
        "if os.path.exists('W04'): \n",
        "    !rm -fr 'W04/'\n",
        "!git clone https://github.com/music-data-mining/W04.git\n",
        "%cd W04"
      ],
      "metadata": {
        "colab": {
          "base_uri": "https://localhost:8080/"
        },
        "id": "aKQptoPnY8_A",
        "outputId": "e685f64b-ebf9-409d-b34f-48fd0d6805ea"
      },
      "execution_count": 6,
      "outputs": [
        {
          "output_type": "stream",
          "name": "stdout",
          "text": [
            "Cloning into 'W04'...\n",
            "remote: Enumerating objects: 245, done.\u001b[K\n",
            "remote: Counting objects: 100% (12/12), done.\u001b[K\n",
            "remote: Compressing objects: 100% (8/8), done.\u001b[K\n",
            "remote: Total 245 (delta 6), reused 10 (delta 4), pack-reused 233\u001b[K\n",
            "Receiving objects: 100% (245/245), 42.97 MiB | 33.44 MiB/s, done.\n",
            "Resolving deltas: 100% (7/7), done.\n",
            "/content/W04\n"
          ]
        }
      ]
    },
    {
      "cell_type": "markdown",
      "metadata": {
        "id": "hi9vcgU35ADL"
      },
      "source": [
        "# Setup"
      ]
    },
    {
      "cell_type": "code",
      "metadata": {
        "id": "6-grbYtP5ADN"
      },
      "source": [
        "# Common imports\n",
        "import pandas as pd\n",
        "import numpy as np\n",
        "from scipy import stats\n",
        "import os\n",
        "\n",
        "# to make this notebook's output stable across runs\n",
        "np.random.seed(42)\n",
        "\n",
        "# To plot pretty figures\n",
        "%matplotlib inline\n",
        "import matplotlib as mpl\n",
        "import matplotlib.pyplot as plt\n",
        "mpl.rc('axes', labelsize=14)\n",
        "mpl.rc('xtick', labelsize=12)\n",
        "mpl.rc('ytick', labelsize=12)\n",
        "\n",
        "# Ignore useless warnings (see SciPy issue #5998)\n",
        "import warnings\n",
        "warnings.filterwarnings(action=\"ignore\", message=\"^internal gelsd\")"
      ],
      "execution_count": 1,
      "outputs": []
    },
    {
      "cell_type": "markdown",
      "metadata": {
        "id": "9Z7BdHzM5ADo"
      },
      "source": [
        "### Load data and generate features"
      ]
    },
    {
      "cell_type": "code",
      "metadata": {
        "id": "36NxIpdX_bq5"
      },
      "source": [
        "data = pd.read_csv('moodmsdfeatures.csv')  # load data set"
      ],
      "execution_count": 4,
      "outputs": []
    },
    {
      "cell_type": "code",
      "metadata": {
        "id": "3uL3eyIY_TnX"
      },
      "source": [
        "import csv\n",
        "import hdf5_getters\n",
        "\n",
        "songreader = csv.DictReader(open('moodmsdfeatures.csv'))\n",
        "\n",
        "seg_timbre_mean = np.empty((0,12), dtype=float)\n",
        "seg_timbre_var = np.empty((0,12), dtype=float)\n",
        "seg_chroma_mean = np.empty((0,12), dtype=float)\n",
        "seg_chroma_var = np.empty((0,12), dtype=float)\n",
        "seg_loudmax_mean = np.empty((0,1), dtype=float)\n",
        "seg_loudmax_var = np.empty((0,1), dtype=float)\n",
        "\n",
        "for song in songreader:\n",
        "    trid = song['MSD_track_id']\n",
        "    filename = 'deezer_MSD/' + trid + '.h5'\n",
        "    h5 = hdf5_getters.open_h5_file_read(filename)\n",
        "    print(\"filename: \",filename)\n",
        "    timbre = hdf5_getters.get_segments_timbre(h5)\n",
        "    print(\"timbre.shape: \",timbre.shape)\n",
        "    seg_timbre_mean = np.vstack((seg_timbre_mean, np.mean(timbre, axis = 0)))\n",
        "    print(\"seg_timbre_mean.shape: \",seg_timbre_mean.shape)\n",
        "    seg_timbre_var = np.vstack((seg_timbre_var, np.var(timbre, axis = 0)))\n",
        "    print(\"seg_timbre_var.shape: \",seg_timbre_var.shape)\n",
        "    chroma = hdf5_getters.get_segments_pitches(h5)\n",
        "    seg_chroma_mean = np.vstack((seg_chroma_mean, np.mean(chroma, axis = 0)))\n",
        "    seg_chroma_var = np.vstack((seg_chroma_var, np.var(chroma, axis = 0)))\n",
        "    loudmax = hdf5_getters.get_segments_loudness_max(h5)\n",
        "    seg_loudmax_mean = np.vstack((seg_loudmax_mean, np.mean(loudmax, axis = 0)))\n",
        "    seg_loudmax_var = np.vstack((seg_loudmax_var, np.var(loudmax, axis = 0)))    "
      ],
      "execution_count": null,
      "outputs": []
    },
    {
      "cell_type": "code",
      "metadata": {
        "scrolled": true,
        "id": "6o5-AQsa5ADq"
      },
      "source": [
        "import beat_aligned_feats as baf\n",
        "\n",
        "bt_timbre_mean = np.empty((0,12), dtype=float)\n",
        "bt_timbre_var = np.empty((0,12), dtype=float)\n",
        "bt_chroma_mean = np.empty((0,12), dtype=float)\n",
        "bt_chroma_var = np.empty((0,12), dtype=float)\n",
        "bt_loudmax_mean = np.empty((0,1), dtype=float)\n",
        "bt_loudmax_var = np.empty((0,1), dtype=float)\n",
        "\n",
        "for song in songreader:\n",
        "    trid = song['MSD_track_id']\n",
        "    filename = 'deezer_MSD/' + trid + '.h5'\n",
        "    \n",
        "    print(filename)\n",
        "    bttimbre = baf.get_bttimbre(filename)\n",
        "    bttimbre = np.transpose(bttimbre)\n",
        "    print(\"bttimbre.shape: \",bttimbre.shape)\n",
        "    bt_timbre_mean = np.vstack((bt_timbre_mean, np.mean(bttimbre, axis = 0)))\n",
        "    print(\"bt_timbre_mean_mean.shape: \",bt_timbre_mean.shape)\n",
        "    bt_timbre_var = np.vstack((bt_timbre_var, np.var(bttimbre, axis = 0)))\n",
        "    print(\"bt_timbre_mean_var.shape: \",bt_timbre_var.shape)\n",
        "    \n",
        "    btchroma = baf.get_btchromas(filename)\n",
        "    btchroma = np.transpose(btchroma)\n",
        "    bt_chroma_mean = np.vstack((bt_chroma_mean, np.mean(btchroma, axis = 0)))\n",
        "    bt_chroma_var = np.vstack((bt_chroma_var, np.var(btchroma, axis = 0)))    \n",
        "    \n",
        "    loudmax = baf.get_btloudnessmax(filename)\n",
        "    loudmax = np.transpose(loudmax)\n",
        "    bt_loudmax_mean = np.vstack((bt_loudmax_mean, np.mean(loudmax, axis = 0)))\n",
        "    bt_loudmax_var = np.vstack((bt_loudmax_var, np.var(loudmax, axis = 0)))       "
      ],
      "execution_count": null,
      "outputs": []
    },
    {
      "cell_type": "markdown",
      "metadata": {
        "id": "km4hnsNr9QLP"
      },
      "source": [
        "### Softmax Regression using 1) segment means and vars of timbre, chroma, and loudmax and 2) beat means and vars of of timbre, chroma, and loudmax"
      ]
    },
    {
      "cell_type": "markdown",
      "metadata": {
        "id": "tMhjHamxVsLb"
      },
      "source": [
        "* Build a softmax regression classifier to solve the music mood classification problem. The four mood classes are four quadrants of Russell’s emotion circumplex.\n",
        " \n",
        "* Use 10% of the dataset for the test set. Report classification scores of the training set and the test set. \n",
        "\n",
        "\n",
        "* Use the following features:\n",
        "seg_timbre_mean, seg_timbre_var, seg_chroma_mean, seg_chroma_var, seg_loudmax_mean, seg_loudmax_var, bt_timbre_mean, bt_timbre_var, bt_chroma_mean, bt_chroma_var, bt_loudmax_mean, bt_loudmax_var"
      ]
    },
    {
      "cell_type": "code",
      "metadata": {
        "id": "o8fGVdW_TXuV",
        "outputId": "f24c7b90-59f2-4edf-c8f4-8007d4c3c364",
        "colab": {
          "base_uri": "https://localhost:8080/"
        }
      },
      "source": [
        "from sklearn.linear_model import LogisticRegression\n",
        "\n",
        "X = np.hstack((seg_timbre_mean,\n",
        "               seg_timbre_var,\n",
        "               seg_chroma_mean,\n",
        "               seg_chroma_var,\n",
        "               seg_loudmax_mean,\n",
        "               seg_loudmax_var,\n",
        "               bt_timbre_mean,\n",
        "               bt_timbre_var,\n",
        "               bt_chroma_mean,\n",
        "               bt_chroma_var,\n",
        "               bt_loudmax_mean,\n",
        "               bt_loudmax_var))\n",
        "y = data['quadrant'].values.reshape(-1)\n",
        "\n",
        "from sklearn.model_selection import train_test_split\n",
        "X_train, X_test, y_train, y_test = train_test_split(X, y, test_size=0.2, random_state=1)\n",
        "\n",
        "reg = LogisticRegression(multi_class=\"multinomial\", max_iter = 100)\n",
        "reg.fit(X_train, y_train)\n",
        "y_pred = reg.predict(X_test)\n",
        "\n",
        "score = reg.score(X_train, y_train)\n",
        "print(\"Train score: %.4f\" % score)\n",
        "score = reg.score(X_test, y_test)\n",
        "print(\"Test score: %.4f\" % score)"
      ],
      "execution_count": 9,
      "outputs": [
        {
          "output_type": "stream",
          "name": "stdout",
          "text": [
            "Train score: 0.5531\n",
            "Test score: 0.4000\n"
          ]
        },
        {
          "output_type": "stream",
          "name": "stderr",
          "text": [
            "/usr/local/lib/python3.7/dist-packages/sklearn/linear_model/_logistic.py:818: ConvergenceWarning: lbfgs failed to converge (status=1):\n",
            "STOP: TOTAL NO. of ITERATIONS REACHED LIMIT.\n",
            "\n",
            "Increase the number of iterations (max_iter) or scale the data as shown in:\n",
            "    https://scikit-learn.org/stable/modules/preprocessing.html\n",
            "Please also refer to the documentation for alternative solver options:\n",
            "    https://scikit-learn.org/stable/modules/linear_model.html#logistic-regression\n",
            "  extra_warning_msg=_LOGISTIC_SOLVER_CONVERGENCE_MSG,\n"
          ]
        }
      ]
    },
    {
      "cell_type": "markdown",
      "metadata": {
        "id": "87CReDHf_f0k"
      },
      "source": [
        "##Q1. Build a linear SVM classifier using the features you've generated (1pt)\n",
        "- Split the dataset into a train and a test set (pick any test_size value you want)\n",
        "- Use any hyperparameter (C or alpha) for the classifier\n",
        "- Use any evaluation metric \n",
        "- Report evaluation scores of the train and the test sets\n",
        "\n"
      ]
    },
    {
      "cell_type": "code",
      "metadata": {
        "id": "KSoLz38a_F7Y"
      },
      "source": [],
      "execution_count": null,
      "outputs": []
    },
    {
      "cell_type": "code",
      "metadata": {
        "id": "DPjKTtw8AAqF",
        "outputId": "b71614bd-a735-4864-e22e-6b80dcb83d8a",
        "colab": {
          "base_uri": "https://localhost:8080/",
          "height": 119
        }
      },
      "source": [],
      "execution_count": null,
      "outputs": [
        {
          "output_type": "execute_result",
          "data": {
            "text/plain": [
              "SGDClassifier(alpha=1, average=False, class_weight=None, early_stopping=False,\n",
              "              epsilon=0.1, eta0=0.001, fit_intercept=True, l1_ratio=0.15,\n",
              "              learning_rate='constant', loss='hinge', max_iter=1000,\n",
              "              n_iter_no_change=5, n_jobs=None, penalty='l2', power_t=0.5,\n",
              "              random_state=42, shuffle=True, tol=-inf, validation_fraction=0.1,\n",
              "              verbose=0, warm_start=False)"
            ]
          },
          "metadata": {
            "tags": []
          },
          "execution_count": 59
        }
      ]
    },
    {
      "cell_type": "code",
      "metadata": {
        "id": "gpprmaTCAEgF",
        "outputId": "1570d51e-71ca-4331-baad-13f154fa2461",
        "colab": {
          "base_uri": "https://localhost:8080/",
          "height": 34
        }
      },
      "source": [],
      "execution_count": null,
      "outputs": [
        {
          "output_type": "execute_result",
          "data": {
            "text/plain": [
              "0.6346153846153846"
            ]
          },
          "metadata": {
            "tags": []
          },
          "execution_count": 60
        }
      ]
    },
    {
      "cell_type": "code",
      "metadata": {
        "id": "lOipFbu2AGre",
        "outputId": "0a4d8673-eafb-4ead-d17d-4bdee721a3b9",
        "colab": {
          "base_uri": "https://localhost:8080/",
          "height": 34
        }
      },
      "source": [],
      "execution_count": null,
      "outputs": [
        {
          "output_type": "execute_result",
          "data": {
            "text/plain": [
              "0.4852941176470588"
            ]
          },
          "metadata": {
            "tags": []
          },
          "execution_count": 61
        }
      ]
    },
    {
      "cell_type": "markdown",
      "metadata": {
        "id": "wR5hYUzQBEgq"
      },
      "source": [
        "## Q2. Pick the best hyperparameter for your linear SVM classifier using GridSearchCV or RandomizedSearchCV (1pt)\n",
        "- Report evaluation scores of the train and the test sets\n",
        "- It's totally fine even if the best parameter doesn't lead to a better evaluation score of the test set\n"
      ]
    },
    {
      "cell_type": "code",
      "metadata": {
        "id": "bnqeAJa-ATRe",
        "outputId": "81e6a305-54c8-4244-ada9-fddb80cca3b9",
        "colab": {
          "base_uri": "https://localhost:8080/",
          "height": 34
        }
      },
      "source": [],
      "execution_count": null,
      "outputs": [
        {
          "output_type": "stream",
          "text": [
            "Best CV params {'alpha': 0.01}\n"
          ],
          "name": "stdout"
        }
      ]
    },
    {
      "cell_type": "code",
      "metadata": {
        "id": "iS_b87dxATeU",
        "outputId": "0d923fb2-7211-46b2-838f-bfd85bcf07b6",
        "colab": {
          "base_uri": "https://localhost:8080/",
          "height": 119
        }
      },
      "source": [],
      "execution_count": null,
      "outputs": [
        {
          "output_type": "execute_result",
          "data": {
            "text/plain": [
              "SGDClassifier(alpha=0.01, average=False, class_weight=None,\n",
              "              early_stopping=False, epsilon=0.1, eta0=0.001, fit_intercept=True,\n",
              "              l1_ratio=0.15, learning_rate='constant', loss='hinge',\n",
              "              max_iter=1000, n_iter_no_change=5, n_jobs=None, penalty='l2',\n",
              "              power_t=0.5, random_state=42, shuffle=True, tol=-inf,\n",
              "              validation_fraction=0.1, verbose=0, warm_start=False)"
            ]
          },
          "metadata": {
            "tags": []
          },
          "execution_count": 77
        }
      ]
    },
    {
      "cell_type": "code",
      "metadata": {
        "id": "e1w2B5laAciq",
        "outputId": "13a14c2f-50e4-4aba-9c89-42b478566c1f",
        "colab": {
          "base_uri": "https://localhost:8080/",
          "height": 34
        }
      },
      "source": [],
      "execution_count": null,
      "outputs": [
        {
          "output_type": "execute_result",
          "data": {
            "text/plain": [
              "0.8333333333333334"
            ]
          },
          "metadata": {
            "tags": []
          },
          "execution_count": 78
        }
      ]
    },
    {
      "cell_type": "code",
      "metadata": {
        "id": "POzOYZNHAdfl",
        "outputId": "9d380a14-b013-4e11-8f9d-67f3d4784575",
        "colab": {
          "base_uri": "https://localhost:8080/",
          "height": 34
        }
      },
      "source": [],
      "execution_count": null,
      "outputs": [
        {
          "output_type": "execute_result",
          "data": {
            "text/plain": [
              "0.4264705882352941"
            ]
          },
          "metadata": {
            "tags": []
          },
          "execution_count": 79
        }
      ]
    },
    {
      "cell_type": "markdown",
      "metadata": {
        "id": "oOSNKNH2AqMM"
      },
      "source": [
        "## Q3. Build a nonlinear SVM classifier using the features you've generated, and pick the best hyperparameter for the classifier (1pt)\n",
        "- Use the RBF kernel\n",
        "- Split the dataset into a train and a test set (select any test_size value you want)\n",
        "- Use any hyperparameter value, C, for the classifier\n",
        "- Use any evaluation metric \n",
        "- Report evaluation scores of the train and the test sets\n",
        "- It's totally fine even if the best parameter doesn't lead to a better evaluation score of the test set"
      ]
    },
    {
      "cell_type": "code",
      "metadata": {
        "id": "caBzKfkbAseY",
        "outputId": "895ecf42-c092-474e-c0e8-973b81604019",
        "colab": {
          "base_uri": "https://localhost:8080/",
          "height": 102
        }
      },
      "source": [],
      "execution_count": null,
      "outputs": [
        {
          "output_type": "stream",
          "text": [
            "Best CV params {'C': 10, 'gamma': 0.001}\n"
          ],
          "name": "stdout"
        },
        {
          "output_type": "execute_result",
          "data": {
            "text/plain": [
              "SVC(C=10, break_ties=False, cache_size=200, class_weight=None, coef0=0.0,\n",
              "    decision_function_shape='ovr', degree=3, gamma=0.001, kernel='rbf',\n",
              "    max_iter=-1, probability=False, random_state=None, shrinking=True,\n",
              "    tol=0.001, verbose=False)"
            ]
          },
          "metadata": {
            "tags": []
          },
          "execution_count": 80
        }
      ]
    },
    {
      "cell_type": "code",
      "metadata": {
        "id": "WMY9ADAtDCWt",
        "outputId": "34938e67-1047-44e2-dbc2-da6600262c2a",
        "colab": {
          "base_uri": "https://localhost:8080/",
          "height": 34
        }
      },
      "source": [],
      "execution_count": null,
      "outputs": [
        {
          "output_type": "execute_result",
          "data": {
            "text/plain": [
              "0.8333333333333334"
            ]
          },
          "metadata": {
            "tags": []
          },
          "execution_count": 81
        }
      ]
    },
    {
      "cell_type": "code",
      "metadata": {
        "id": "l5TvBHmIDFAO",
        "outputId": "1fd8491d-9808-4f44-b390-4bb9ab4ccbb1",
        "colab": {
          "base_uri": "https://localhost:8080/",
          "height": 34
        }
      },
      "source": [],
      "execution_count": null,
      "outputs": [
        {
          "output_type": "execute_result",
          "data": {
            "text/plain": [
              "0.4264705882352941"
            ]
          },
          "metadata": {
            "tags": []
          },
          "execution_count": 82
        }
      ]
    }
  ]
}